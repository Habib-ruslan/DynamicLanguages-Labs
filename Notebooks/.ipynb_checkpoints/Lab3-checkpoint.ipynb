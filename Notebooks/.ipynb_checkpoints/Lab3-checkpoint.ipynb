{
 "cells": [
  {
   "cell_type": "markdown",
   "id": "8cab54f9",
   "metadata": {},
   "source": [
    "## Лабораторная работа №3\n",
    "\n",
    "#### Задание 1\n",
    "Провести классификацию найденного датасета, методами линеной и логистической регрессий . В формате Markdown написать пояснения. Объяснить почему были выбраны именно такие гиперпараметры, была ли перекрестная проверка, и т.д.\n",
    "\n",
    "#### Ход работы:"
   ]
  },
  {
   "cell_type": "markdown",
   "id": "302f3451",
   "metadata": {},
   "source": [
    "Импортируем библиотеки и загружаем датасет"
   ]
  },
  {
   "cell_type": "code",
   "execution_count": 1,
   "id": "a1498c21",
   "metadata": {},
   "outputs": [],
   "source": [
    "from sklearn.model_selection import train_test_split, GridSearchCV\n",
    "from sklearn.linear_model import LogisticRegression\n",
    "from sklearn.linear_model import LinearRegression\n",
    "from sklearn.preprocessing import StandardScaler\n",
    "from sklearn.metrics import accuracy_score\n",
    "import pandas as pd\n",
    "\n",
    "# Загрузка данных\n",
    "file_path = \"../Dataset.xls\"\n",
    "df = pd.read_excel(file_path)"
   ]
  },
  {
   "cell_type": "markdown",
   "id": "35737a3e",
   "metadata": {},
   "source": [
    "Разделение данных и нормализация"
   ]
  },
  {
   "cell_type": "code",
   "execution_count": 2,
   "id": "713a2770",
   "metadata": {},
   "outputs": [],
   "source": [
    "# Разделение на признаки (X) и целевую переменную (y)\n",
    "X = df.drop('default payment next month', axis=1)\n",
    "y = df['default payment next month']\n",
    "\n",
    "# Разделение данных на тренировочный и тестовый наборы\n",
    "# random_state=42 - гарантирует, что данные каждый раз будут одинакого разбиваться\n",
    "X_train, X_test, y_train, y_test = train_test_split(X, y, test_size=0.2, random_state=42)\n",
    "\n",
    "# Масштабирование признаков (нормализация)\n",
    "scaler = StandardScaler()\n",
    "X_train_scaled = scaler.fit_transform(X_train)\n",
    "X_test_scaled = scaler.transform(X_test)"
   ]
  },
  {
   "cell_type": "markdown",
   "id": "81ad5607",
   "metadata": {},
   "source": [
    "Линейная регрессия"
   ]
  },
  {
   "cell_type": "code",
   "execution_count": null,
   "id": "31a58c19",
   "metadata": {},
   "outputs": [],
   "source": [
    "linear_model = LinearRegression()\n",
    "linear_model.fit(X_train_scaled, y_train)\n",
    "linear_accuracy = linear_model.score(X_test_scaled, y_test)"
   ]
  },
  {
   "cell_type": "markdown",
   "id": "031daacf",
   "metadata": {},
   "source": [
    "Логистическая регрессия"
   ]
  },
  {
   "cell_type": "markdown",
   "id": "4bc33d88",
   "metadata": {},
   "source": [
    "Гиперпараметры:\n",
    "   - C: обратная сила регуляризации. Меньшие значения C указывают на более сильную регуляризацию.\n",
    "   - penalty: задает тип регуляризации (например, L1 или L2).\n",
    "   - solver: алгоритм, используемый для оптимизации весов (например, 'liblinear', 'saga', 'lbfgs' и другие)."
   ]
  },
  {
   "cell_type": "code",
   "execution_count": null,
   "id": "f168f88a",
   "metadata": {},
   "outputs": [],
   "source": [
    "param_grid = {\n",
    "    'C': [0.1, 1, 10],\n",
    "    'penalty': ['l1', 'l2'],\n",
    "    'solver': ['liblinear', 'saga']\n",
    "}"
   ]
  },
  {
   "cell_type": "markdown",
   "id": "cb15a8c0",
   "metadata": {},
   "source": [
    "Перекрестная проверка гиперпараметров"
   ]
  },
  {
   "cell_type": "code",
   "execution_count": 6,
   "id": "ec3ac7a2",
   "metadata": {},
   "outputs": [
    {
     "name": "stdout",
     "output_type": "stream",
     "text": [
      "Fitting 5 folds for each of 12 candidates, totalling 60 fits\n",
      "[CV 1/5] END C=0.1, penalty=l1, solver=liblinear;, score=0.806 total time=   0.0s\n",
      "[CV 2/5] END C=0.1, penalty=l1, solver=liblinear;, score=0.814 total time=   0.0s\n",
      "[CV 3/5] END C=0.1, penalty=l1, solver=liblinear;, score=0.808 total time=   0.0s\n",
      "[CV 4/5] END C=0.1, penalty=l1, solver=liblinear;, score=0.813 total time=   0.0s\n",
      "[CV 5/5] END C=0.1, penalty=l1, solver=liblinear;, score=0.809 total time=   0.0s\n",
      "[CV 1/5] END ....C=0.1, penalty=l1, solver=saga;, score=0.806 total time=   1.2s\n",
      "[CV 2/5] END ....C=0.1, penalty=l1, solver=saga;, score=0.814 total time=   1.1s\n",
      "[CV 3/5] END ....C=0.1, penalty=l1, solver=saga;, score=0.808 total time=   0.9s\n",
      "[CV 4/5] END ....C=0.1, penalty=l1, solver=saga;, score=0.813 total time=   0.4s\n",
      "[CV 5/5] END ....C=0.1, penalty=l1, solver=saga;, score=0.809 total time=   0.8s\n",
      "[CV 1/5] END C=0.1, penalty=l2, solver=liblinear;, score=0.805 total time=   0.0s\n",
      "[CV 2/5] END C=0.1, penalty=l2, solver=liblinear;, score=0.814 total time=   0.0s\n",
      "[CV 3/5] END C=0.1, penalty=l2, solver=liblinear;, score=0.808 total time=   0.0s\n",
      "[CV 4/5] END C=0.1, penalty=l2, solver=liblinear;, score=0.814 total time=   0.0s\n",
      "[CV 5/5] END C=0.1, penalty=l2, solver=liblinear;, score=0.809 total time=   0.0s\n",
      "[CV 1/5] END ....C=0.1, penalty=l2, solver=saga;, score=0.805 total time=   1.7s\n",
      "[CV 2/5] END ....C=0.1, penalty=l2, solver=saga;, score=0.814 total time=   1.6s\n",
      "[CV 3/5] END ....C=0.1, penalty=l2, solver=saga;, score=0.808 total time=   1.7s\n",
      "[CV 4/5] END ....C=0.1, penalty=l2, solver=saga;, score=0.813 total time=   1.5s\n",
      "[CV 5/5] END ....C=0.1, penalty=l2, solver=saga;, score=0.809 total time=   1.1s\n",
      "[CV 1/5] END .C=1, penalty=l1, solver=liblinear;, score=0.806 total time=   0.1s\n",
      "[CV 2/5] END .C=1, penalty=l1, solver=liblinear;, score=0.814 total time=   0.2s\n",
      "[CV 3/5] END .C=1, penalty=l1, solver=liblinear;, score=0.809 total time=   0.2s\n",
      "[CV 4/5] END .C=1, penalty=l1, solver=liblinear;, score=0.814 total time=   0.1s\n",
      "[CV 5/5] END .C=1, penalty=l1, solver=liblinear;, score=0.809 total time=   0.1s\n",
      "[CV 1/5] END ......C=1, penalty=l1, solver=saga;, score=0.806 total time=   2.6s\n",
      "[CV 2/5] END ......C=1, penalty=l1, solver=saga;, score=0.814 total time=   2.3s\n",
      "[CV 3/5] END ......C=1, penalty=l1, solver=saga;, score=0.809 total time=   2.8s\n",
      "[CV 4/5] END ......C=1, penalty=l1, solver=saga;, score=0.814 total time=   2.6s\n",
      "[CV 5/5] END ......C=1, penalty=l1, solver=saga;, score=0.809 total time=   1.7s\n",
      "[CV 1/5] END .C=1, penalty=l2, solver=liblinear;, score=0.805 total time=   0.0s\n",
      "[CV 2/5] END .C=1, penalty=l2, solver=liblinear;, score=0.814 total time=   0.0s\n",
      "[CV 3/5] END .C=1, penalty=l2, solver=liblinear;, score=0.808 total time=   0.0s\n",
      "[CV 4/5] END .C=1, penalty=l2, solver=liblinear;, score=0.814 total time=   0.0s\n",
      "[CV 5/5] END .C=1, penalty=l2, solver=liblinear;, score=0.809 total time=   0.0s\n",
      "[CV 1/5] END ......C=1, penalty=l2, solver=saga;, score=0.806 total time=   2.1s\n",
      "[CV 2/5] END ......C=1, penalty=l2, solver=saga;, score=0.814 total time=   1.8s\n",
      "[CV 3/5] END ......C=1, penalty=l2, solver=saga;, score=0.809 total time=   2.2s\n",
      "[CV 4/5] END ......C=1, penalty=l2, solver=saga;, score=0.814 total time=   1.9s\n",
      "[CV 5/5] END ......C=1, penalty=l2, solver=saga;, score=0.809 total time=   1.3s\n",
      "[CV 1/5] END C=10, penalty=l1, solver=liblinear;, score=0.806 total time=   0.1s\n",
      "[CV 2/5] END C=10, penalty=l1, solver=liblinear;, score=0.814 total time=   0.2s\n",
      "[CV 3/5] END C=10, penalty=l1, solver=liblinear;, score=0.809 total time=   0.2s\n",
      "[CV 4/5] END C=10, penalty=l1, solver=liblinear;, score=0.814 total time=   0.1s\n",
      "[CV 5/5] END C=10, penalty=l1, solver=liblinear;, score=0.809 total time=   0.1s\n",
      "[CV 1/5] END .....C=10, penalty=l1, solver=saga;, score=0.806 total time=   3.1s\n",
      "[CV 2/5] END .....C=10, penalty=l1, solver=saga;, score=0.814 total time=   2.4s\n",
      "[CV 3/5] END .....C=10, penalty=l1, solver=saga;, score=0.809 total time=   3.0s\n",
      "[CV 4/5] END .....C=10, penalty=l1, solver=saga;, score=0.814 total time=   2.5s\n",
      "[CV 5/5] END .....C=10, penalty=l1, solver=saga;, score=0.809 total time=   1.8s\n",
      "[CV 1/5] END C=10, penalty=l2, solver=liblinear;, score=0.806 total time=   0.0s\n",
      "[CV 2/5] END C=10, penalty=l2, solver=liblinear;, score=0.814 total time=   0.0s\n",
      "[CV 3/5] END C=10, penalty=l2, solver=liblinear;, score=0.809 total time=   0.0s\n",
      "[CV 4/5] END C=10, penalty=l2, solver=liblinear;, score=0.814 total time=   0.0s\n",
      "[CV 5/5] END C=10, penalty=l2, solver=liblinear;, score=0.809 total time=   0.0s\n",
      "[CV 1/5] END .....C=10, penalty=l2, solver=saga;, score=0.806 total time=   2.2s\n",
      "[CV 2/5] END .....C=10, penalty=l2, solver=saga;, score=0.814 total time=   2.1s\n",
      "[CV 3/5] END .....C=10, penalty=l2, solver=saga;, score=0.809 total time=   2.3s\n",
      "[CV 4/5] END .....C=10, penalty=l2, solver=saga;, score=0.814 total time=   1.9s\n",
      "[CV 5/5] END .....C=10, penalty=l2, solver=saga;, score=0.809 total time=   1.3s\n"
     ]
    },
    {
     "data": {
      "text/html": [
       "<style>#sk-container-id-3 {color: black;}#sk-container-id-3 pre{padding: 0;}#sk-container-id-3 div.sk-toggleable {background-color: white;}#sk-container-id-3 label.sk-toggleable__label {cursor: pointer;display: block;width: 100%;margin-bottom: 0;padding: 0.3em;box-sizing: border-box;text-align: center;}#sk-container-id-3 label.sk-toggleable__label-arrow:before {content: \"▸\";float: left;margin-right: 0.25em;color: #696969;}#sk-container-id-3 label.sk-toggleable__label-arrow:hover:before {color: black;}#sk-container-id-3 div.sk-estimator:hover label.sk-toggleable__label-arrow:before {color: black;}#sk-container-id-3 div.sk-toggleable__content {max-height: 0;max-width: 0;overflow: hidden;text-align: left;background-color: #f0f8ff;}#sk-container-id-3 div.sk-toggleable__content pre {margin: 0.2em;color: black;border-radius: 0.25em;background-color: #f0f8ff;}#sk-container-id-3 input.sk-toggleable__control:checked~div.sk-toggleable__content {max-height: 200px;max-width: 100%;overflow: auto;}#sk-container-id-3 input.sk-toggleable__control:checked~label.sk-toggleable__label-arrow:before {content: \"▾\";}#sk-container-id-3 div.sk-estimator input.sk-toggleable__control:checked~label.sk-toggleable__label {background-color: #d4ebff;}#sk-container-id-3 div.sk-label input.sk-toggleable__control:checked~label.sk-toggleable__label {background-color: #d4ebff;}#sk-container-id-3 input.sk-hidden--visually {border: 0;clip: rect(1px 1px 1px 1px);clip: rect(1px, 1px, 1px, 1px);height: 1px;margin: -1px;overflow: hidden;padding: 0;position: absolute;width: 1px;}#sk-container-id-3 div.sk-estimator {font-family: monospace;background-color: #f0f8ff;border: 1px dotted black;border-radius: 0.25em;box-sizing: border-box;margin-bottom: 0.5em;}#sk-container-id-3 div.sk-estimator:hover {background-color: #d4ebff;}#sk-container-id-3 div.sk-parallel-item::after {content: \"\";width: 100%;border-bottom: 1px solid gray;flex-grow: 1;}#sk-container-id-3 div.sk-label:hover label.sk-toggleable__label {background-color: #d4ebff;}#sk-container-id-3 div.sk-serial::before {content: \"\";position: absolute;border-left: 1px solid gray;box-sizing: border-box;top: 0;bottom: 0;left: 50%;z-index: 0;}#sk-container-id-3 div.sk-serial {display: flex;flex-direction: column;align-items: center;background-color: white;padding-right: 0.2em;padding-left: 0.2em;position: relative;}#sk-container-id-3 div.sk-item {position: relative;z-index: 1;}#sk-container-id-3 div.sk-parallel {display: flex;align-items: stretch;justify-content: center;background-color: white;position: relative;}#sk-container-id-3 div.sk-item::before, #sk-container-id-3 div.sk-parallel-item::before {content: \"\";position: absolute;border-left: 1px solid gray;box-sizing: border-box;top: 0;bottom: 0;left: 50%;z-index: -1;}#sk-container-id-3 div.sk-parallel-item {display: flex;flex-direction: column;z-index: 1;position: relative;background-color: white;}#sk-container-id-3 div.sk-parallel-item:first-child::after {align-self: flex-end;width: 50%;}#sk-container-id-3 div.sk-parallel-item:last-child::after {align-self: flex-start;width: 50%;}#sk-container-id-3 div.sk-parallel-item:only-child::after {width: 0;}#sk-container-id-3 div.sk-dashed-wrapped {border: 1px dashed gray;margin: 0 0.4em 0.5em 0.4em;box-sizing: border-box;padding-bottom: 0.4em;background-color: white;}#sk-container-id-3 div.sk-label label {font-family: monospace;font-weight: bold;display: inline-block;line-height: 1.2em;}#sk-container-id-3 div.sk-label-container {text-align: center;}#sk-container-id-3 div.sk-container {/* jupyter's `normalize.less` sets `[hidden] { display: none; }` but bootstrap.min.css set `[hidden] { display: none !important; }` so we also need the `!important` here to be able to override the default hidden behavior on the sphinx rendered scikit-learn.org. See: https://github.com/scikit-learn/scikit-learn/issues/21755 */display: inline-block !important;position: relative;}#sk-container-id-3 div.sk-text-repr-fallback {display: none;}</style><div id=\"sk-container-id-3\" class=\"sk-top-container\"><div class=\"sk-text-repr-fallback\"><pre>GridSearchCV(estimator=LogisticRegression(max_iter=1000),\n",
       "             param_grid={&#x27;C&#x27;: [0.1, 1, 10], &#x27;penalty&#x27;: [&#x27;l1&#x27;, &#x27;l2&#x27;],\n",
       "                         &#x27;solver&#x27;: [&#x27;liblinear&#x27;, &#x27;saga&#x27;]},\n",
       "             verbose=3)</pre><b>In a Jupyter environment, please rerun this cell to show the HTML representation or trust the notebook. <br />On GitHub, the HTML representation is unable to render, please try loading this page with nbviewer.org.</b></div><div class=\"sk-container\" hidden><div class=\"sk-item sk-dashed-wrapped\"><div class=\"sk-label-container\"><div class=\"sk-label sk-toggleable\"><input class=\"sk-toggleable__control sk-hidden--visually\" id=\"sk-estimator-id-7\" type=\"checkbox\" ><label for=\"sk-estimator-id-7\" class=\"sk-toggleable__label sk-toggleable__label-arrow\">GridSearchCV</label><div class=\"sk-toggleable__content\"><pre>GridSearchCV(estimator=LogisticRegression(max_iter=1000),\n",
       "             param_grid={&#x27;C&#x27;: [0.1, 1, 10], &#x27;penalty&#x27;: [&#x27;l1&#x27;, &#x27;l2&#x27;],\n",
       "                         &#x27;solver&#x27;: [&#x27;liblinear&#x27;, &#x27;saga&#x27;]},\n",
       "             verbose=3)</pre></div></div></div><div class=\"sk-parallel\"><div class=\"sk-parallel-item\"><div class=\"sk-item\"><div class=\"sk-label-container\"><div class=\"sk-label sk-toggleable\"><input class=\"sk-toggleable__control sk-hidden--visually\" id=\"sk-estimator-id-8\" type=\"checkbox\" ><label for=\"sk-estimator-id-8\" class=\"sk-toggleable__label sk-toggleable__label-arrow\">estimator: LogisticRegression</label><div class=\"sk-toggleable__content\"><pre>LogisticRegression(max_iter=1000)</pre></div></div></div><div class=\"sk-serial\"><div class=\"sk-item\"><div class=\"sk-estimator sk-toggleable\"><input class=\"sk-toggleable__control sk-hidden--visually\" id=\"sk-estimator-id-9\" type=\"checkbox\" ><label for=\"sk-estimator-id-9\" class=\"sk-toggleable__label sk-toggleable__label-arrow\">LogisticRegression</label><div class=\"sk-toggleable__content\"><pre>LogisticRegression(max_iter=1000)</pre></div></div></div></div></div></div></div></div></div></div>"
      ],
      "text/plain": [
       "GridSearchCV(estimator=LogisticRegression(max_iter=1000),\n",
       "             param_grid={'C': [0.1, 1, 10], 'penalty': ['l1', 'l2'],\n",
       "                         'solver': ['liblinear', 'saga']},\n",
       "             verbose=3)"
      ]
     },
     "execution_count": 6,
     "metadata": {},
     "output_type": "execute_result"
    }
   ],
   "source": [
    "logistic = LogisticRegression(max_iter=1000)\n",
    "grid = GridSearchCV(logistic, param_grid, refit=True, verbose=3)\n",
    "grid.fit(X_train_scaled, y_train)"
   ]
  },
  {
   "cell_type": "markdown",
   "id": "414d3ab3",
   "metadata": {},
   "source": [
    "Вывод результатов:"
   ]
  },
  {
   "cell_type": "code",
   "execution_count": 8,
   "id": "a60104dc",
   "metadata": {},
   "outputs": [
    {
     "name": "stdout",
     "output_type": "stream",
     "text": [
      "Лучшие гиперпараметры логистической регрессии: {'C': 1, 'penalty': 'l1', 'solver': 'liblinear'}\n",
      "Точность модели логистической регрессии: 0.81\n",
      "Точность модели линейной регрессии: 0.1186075478239631\n"
     ]
    }
   ],
   "source": [
    "# Оценка производительности модели логистической регрессии на тестовом наборе\n",
    "best_logistic = grid.best_estimator_\n",
    "logistic_accuracy = best_logistic.score(X_test_scaled, y_test)\n",
    "print(f\"Лучшие гиперпараметры логистической регрессии: {grid.best_params_}\")\n",
    "print(f\"Точность модели логистической регрессии: {logistic_accuracy}\")\n",
    "print(f\"Точность модели линейной регрессии: {linear_accuracy}\")"
   ]
  },
  {
   "cell_type": "code",
   "execution_count": null,
   "id": "6e69f09e",
   "metadata": {},
   "outputs": [],
   "source": []
  }
 ],
 "metadata": {
  "kernelspec": {
   "display_name": "Python 3 (ipykernel)",
   "language": "python",
   "name": "python3"
  },
  "language_info": {
   "codemirror_mode": {
    "name": "ipython",
    "version": 3
   },
   "file_extension": ".py",
   "mimetype": "text/x-python",
   "name": "python",
   "nbconvert_exporter": "python",
   "pygments_lexer": "ipython3",
   "version": "3.11.5"
  }
 },
 "nbformat": 4,
 "nbformat_minor": 5
}
