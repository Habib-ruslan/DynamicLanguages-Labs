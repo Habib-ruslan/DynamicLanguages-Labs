{
 "cells": [
  {
   "cell_type": "markdown",
   "id": "d37b0006",
   "metadata": {},
   "source": [
    "## Лабораторная работа №1\n",
    "\n",
    "#### Задание 1\n",
    "Найти набор данных (датасет) для классификации удовлетворяющий следующим условиям: более 10 000 строк, более 20 столбцов, разные типы в столбцах, обязательно наличие целевого признака (таргета).\n",
    "\n",
    "#### Задание 2\n",
    "Провести классификацию найденного датасета, методом к- ближайших соседей. В формате Markdown писать пояснения. Объяснить почему были выбраны именно такие гиперпараметры, была ли перекрестная проверка, и т.д.\n",
    "\n",
    "#### Ход работы:"
   ]
  },
  {
   "cell_type": "markdown",
   "id": "92d68028",
   "metadata": {},
   "source": [
    "Если не установлен xlrd (для работы с excel)"
   ]
  },
  {
   "cell_type": "code",
   "execution_count": null,
   "id": "d03f8a44",
   "metadata": {},
   "outputs": [],
   "source": [
    "!pip install xlrd"
   ]
  },
  {
   "cell_type": "markdown",
   "id": "9ff6ddcd",
   "metadata": {},
   "source": [
    "Импортируем библиотеки и загружаем датасет"
   ]
  },
  {
   "cell_type": "code",
   "execution_count": 9,
   "id": "82d60b70",
   "metadata": {},
   "outputs": [],
   "source": [
    "from sklearn.model_selection import train_test_split, cross_val_score\n",
    "from sklearn.neighbors import KNeighborsClassifier\n",
    "from sklearn.preprocessing import StandardScaler\n",
    "from sklearn.metrics import accuracy_score\n",
    "import pandas as pd\n",
    "\n",
    "file_path = \"../Dataset.xls\"\n",
    "df = pd.read_excel(file_path)"
   ]
  },
  {
   "cell_type": "markdown",
   "id": "845043ef",
   "metadata": {},
   "source": [
    "Разделение данных и нормализация"
   ]
  },
  {
   "cell_type": "code",
   "execution_count": 17,
   "id": "f0fc9017",
   "metadata": {},
   "outputs": [],
   "source": [
    "# Разделение на признаки (X) и целевую переменную (y)\n",
    "X = df.drop('default payment next month', axis=1)\n",
    "y = df['default payment next month']\n",
    "\n",
    "# Разделение данных на тренировочный и тестовый наборы\n",
    "# random_state=42 - гарантирует, что данные каждый раз будут одинакого разбиваться\n",
    "X_train, X_test, y_train, y_test = train_test_split(X, y, test_size=0.2, random_state=42)\n",
    "\n",
    "# Масштабирование признаков (нормализация)\n",
    "scaler = StandardScaler()\n",
    "X_train_scaled = scaler.fit_transform(X_train)\n",
    "X_test_scaled = scaler.transform(X_test)"
   ]
  },
  {
   "cell_type": "markdown",
   "id": "f07d3f65",
   "metadata": {},
   "source": [
    "Подбор гиперпараметров с помощью кросс-валидации и определение наилучшего k"
   ]
  },
  {
   "cell_type": "code",
   "execution_count": 18,
   "id": "172a1f49",
   "metadata": {},
   "outputs": [],
   "source": [
    "k_values = list(range(3, 16))\n",
    "cv_scores = []\n",
    "for k in k_values:\n",
    "    knn = KNeighborsClassifier(n_neighbors=k)\n",
    "    scores = cross_val_score(knn, X_train_scaled, y_train, cv=5, scoring='accuracy')\n",
    "    cv_scores.append(scores.mean())\n",
    "\n",
    "# Определение наилучшего значения k\n",
    "best_k = k_values[cv_scores.index(max(cv_scores))]"
   ]
  },
  {
   "cell_type": "markdown",
   "id": "17ce852a",
   "metadata": {},
   "source": [
    "Обучение модели"
   ]
  },
  {
   "cell_type": "code",
   "execution_count": 19,
   "id": "7da14825",
   "metadata": {},
   "outputs": [],
   "source": [
    "# Обучение модели с наилучшим значением k на всем тренировочном наборе\n",
    "best_knn = KNeighborsClassifier(n_neighbors=best_k)\n",
    "best_knn.fit(X_train_scaled, y_train)\n",
    "\n",
    "# Оценка производительности модели на тестовом наборе\n",
    "y_pred = best_knn.predict(X_test_scaled)\n",
    "accuracy = accuracy_score(y_test, y_pred)"
   ]
  },
  {
   "cell_type": "markdown",
   "id": "d94c1990",
   "metadata": {},
   "source": [
    "Вывод результатов:"
   ]
  },
  {
   "cell_type": "code",
   "execution_count": 20,
   "id": "351f3e54",
   "metadata": {},
   "outputs": [
    {
     "name": "stdout",
     "output_type": "stream",
     "text": [
      "Точность модели с k = 15: 0.8126666666666666\n"
     ]
    }
   ],
   "source": [
    "print(f\"Точность модели с k = {best_k}: {accuracy}\")"
   ]
  },
  {
   "cell_type": "code",
   "execution_count": 21,
   "id": "6081e9f2",
   "metadata": {},
   "outputs": [
    {
     "name": "stdout",
     "output_type": "stream",
     "text": [
      "При классификации нового объекта будет учитываться <15> ближайших соседей из обучающего набора данных для принятия решения относительно его класса.\n"
     ]
    }
   ],
   "source": [
    "print(f\"При классификации нового объекта будет учитываться <{best_k}> ближайших соседей из обучающего набора данных для принятия решения относительно его класса.\")\n"
   ]
  },
  {
   "cell_type": "code",
   "execution_count": null,
   "id": "3712da21",
   "metadata": {},
   "outputs": [],
   "source": []
  }
 ],
 "metadata": {
  "kernelspec": {
   "display_name": "Python 3 (ipykernel)",
   "language": "python",
   "name": "python3"
  },
  "language_info": {
   "codemirror_mode": {
    "name": "ipython",
    "version": 3
   },
   "file_extension": ".py",
   "mimetype": "text/x-python",
   "name": "python",
   "nbconvert_exporter": "python",
   "pygments_lexer": "ipython3",
   "version": "3.11.5"
  }
 },
 "nbformat": 4,
 "nbformat_minor": 5
}
