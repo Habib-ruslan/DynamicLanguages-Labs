{
 "cells": [
  {
   "cell_type": "markdown",
   "id": "0cf84b37",
   "metadata": {},
   "source": [
    "## Лабораторная работа №2\n",
    "\n",
    "#### Задание 1\n",
    "Провести классификацию найденного датасета, методом машины опорных векторов. В формате Markdown писать пояснения. Объяснить почему были выбраны именно такие гиперпараметры, была ли перекрестная проверка, и т.д.\n",
    "\n",
    "#### Ход работы:"
   ]
  },
  {
   "cell_type": "markdown",
   "id": "cdba736b",
   "metadata": {},
   "source": [
    "Импортируем библиотеки и загружаем датасет"
   ]
  },
  {
   "cell_type": "code",
   "execution_count": 21,
   "id": "3d46990c",
   "metadata": {},
   "outputs": [],
   "source": [
    "from sklearn.model_selection import train_test_split, GridSearchCV\n",
    "from sklearn.svm import SVC\n",
    "from sklearn.preprocessing import StandardScaler\n",
    "from sklearn.metrics import accuracy_score\n",
    "from tqdm import tqdm\n",
    "import pandas as pd\n",
    "\n",
    "file_path = \"../Dataset.xls\"\n",
    "df = pd.read_excel(file_path)"
   ]
  },
  {
   "cell_type": "markdown",
   "id": "9116cc6c",
   "metadata": {},
   "source": [
    "Разделение данных и нормализация"
   ]
  },
  {
   "cell_type": "code",
   "execution_count": 22,
   "id": "a7628349",
   "metadata": {},
   "outputs": [],
   "source": [
    "# Разделение на признаки (X) и целевую переменную (y)\n",
    "X = df.drop('default payment next month', axis=1)\n",
    "y = df['default payment next month']\n",
    "\n",
    "# Разделение данных на тренировочный и тестовый наборы\n",
    "# random_state=42 - гарантирует, что данные каждый раз будут одинакого разбиваться\n",
    "X_train, X_test, y_train, y_test = train_test_split(X, y, test_size=0.2, random_state=42)\n",
    "\n",
    "# Масштабирование признаков (нормализация)\n",
    "scaler = StandardScaler()\n",
    "X_train_scaled = scaler.fit_transform(X_train)\n",
    "X_test_scaled = scaler.transform(X_test)"
   ]
  },
  {
   "cell_type": "markdown",
   "id": "51f824b6",
   "metadata": {},
   "source": [
    "Гиперпараметры:\n",
    "   - C (регуляризация): Определяет силу регуляризации в модели SVM (Support Vector Machine / Машина опорных векторов); более низкое значение C увеличивает штраф за неправильную классификацию, что может привести к созданию простой модели с большей обобщающей способностью.\n",
    "   - gamma (ядерный коэффициент): Определяет влияние одного тренировочного примера на другие; меньшие значения gamma означают более широкие гауссовы функции и приводят к более простым/прямым границам решения.\n",
    "   - kernel (ядро): Определяет тип использованного ядра (линейное или RBF); линейное ядро работает линейно, тогда как RBF (радиально-базисная функция) способно моделировать сложные границы решений."
   ]
  },
  {
   "cell_type": "code",
   "execution_count": 24,
   "id": "3fa27b02",
   "metadata": {},
   "outputs": [],
   "source": [
    "# Выбрал такие значения для C и gamma для более быстрого обучения модели \n",
    "# (при большом C или gamma увеличивается время работы, но при слишком маленьком значении gamma увеличивается время \n",
    "# работы через RBF)\n",
    "param_grid = {'C': [0.001, 0.01], 'gamma': [0.01, 0.02], 'kernel': ['linear', 'rbf']}"
   ]
  },
  {
   "cell_type": "markdown",
   "id": "3809120f",
   "metadata": {},
   "source": [
    "Подбор гиперпараметров с помощью перекрестной проверки"
   ]
  },
  {
   "cell_type": "code",
   "execution_count": 19,
   "id": "24f38cce",
   "metadata": {},
   "outputs": [
    {
     "name": "stdout",
     "output_type": "stream",
     "text": [
      "Fitting 5 folds for each of 8 candidates, totalling 40 fits\n",
      "[CV 1/5] END C=1e-10, gamma=0.01, kernel=linear;, score=0.778 total time=   5.4s\n",
      "[CV 2/5] END C=1e-10, gamma=0.01, kernel=linear;, score=0.778 total time=   5.4s\n",
      "[CV 3/5] END C=1e-10, gamma=0.01, kernel=linear;, score=0.778 total time=   5.6s\n",
      "[CV 4/5] END C=1e-10, gamma=0.01, kernel=linear;, score=0.778 total time=   5.3s\n",
      "[CV 5/5] END C=1e-10, gamma=0.01, kernel=linear;, score=0.778 total time=   5.3s\n",
      "[CV 1/5] END ...C=1e-10, gamma=0.01, kernel=rbf;, score=0.778 total time=  10.9s\n",
      "[CV 2/5] END ...C=1e-10, gamma=0.01, kernel=rbf;, score=0.778 total time=  10.8s\n",
      "[CV 3/5] END ...C=1e-10, gamma=0.01, kernel=rbf;, score=0.778 total time=  10.7s\n",
      "[CV 4/5] END ...C=1e-10, gamma=0.01, kernel=rbf;, score=0.778 total time=  10.8s\n",
      "[CV 5/5] END ...C=1e-10, gamma=0.01, kernel=rbf;, score=0.778 total time=  10.9s\n",
      "[CV 1/5] END .C=1e-10, gamma=0.2, kernel=linear;, score=0.778 total time=   5.3s\n",
      "[CV 2/5] END .C=1e-10, gamma=0.2, kernel=linear;, score=0.778 total time=   5.4s\n",
      "[CV 3/5] END .C=1e-10, gamma=0.2, kernel=linear;, score=0.778 total time=   5.5s\n",
      "[CV 4/5] END .C=1e-10, gamma=0.2, kernel=linear;, score=0.778 total time=   5.3s\n",
      "[CV 5/5] END .C=1e-10, gamma=0.2, kernel=linear;, score=0.778 total time=   5.3s\n",
      "[CV 1/5] END ....C=1e-10, gamma=0.2, kernel=rbf;, score=0.778 total time=  10.8s\n",
      "[CV 2/5] END ....C=1e-10, gamma=0.2, kernel=rbf;, score=0.778 total time=  10.8s\n",
      "[CV 3/5] END ....C=1e-10, gamma=0.2, kernel=rbf;, score=0.778 total time=  10.7s\n",
      "[CV 4/5] END ....C=1e-10, gamma=0.2, kernel=rbf;, score=0.778 total time=  10.7s\n",
      "[CV 5/5] END ....C=1e-10, gamma=0.2, kernel=rbf;, score=0.778 total time=  11.0s\n",
      "[CV 1/5] END .C=0.01, gamma=0.01, kernel=linear;, score=0.806 total time=   6.9s\n",
      "[CV 2/5] END .C=0.01, gamma=0.01, kernel=linear;, score=0.817 total time=   6.9s\n",
      "[CV 3/5] END .C=0.01, gamma=0.01, kernel=linear;, score=0.807 total time=   6.9s\n",
      "[CV 4/5] END .C=0.01, gamma=0.01, kernel=linear;, score=0.809 total time=   7.4s\n",
      "[CV 5/5] END .C=0.01, gamma=0.01, kernel=linear;, score=0.806 total time=   6.8s\n",
      "[CV 1/5] END ....C=0.01, gamma=0.01, kernel=rbf;, score=0.779 total time=  13.4s\n",
      "[CV 2/5] END ....C=0.01, gamma=0.01, kernel=rbf;, score=0.778 total time=  13.6s\n",
      "[CV 3/5] END ....C=0.01, gamma=0.01, kernel=rbf;, score=0.778 total time=  13.6s\n",
      "[CV 4/5] END ....C=0.01, gamma=0.01, kernel=rbf;, score=0.778 total time=  13.4s\n",
      "[CV 5/5] END ....C=0.01, gamma=0.01, kernel=rbf;, score=0.778 total time=  13.7s\n",
      "[CV 1/5] END ..C=0.01, gamma=0.2, kernel=linear;, score=0.806 total time=   7.4s\n",
      "[CV 2/5] END ..C=0.01, gamma=0.2, kernel=linear;, score=0.817 total time=   6.7s\n",
      "[CV 3/5] END ..C=0.01, gamma=0.2, kernel=linear;, score=0.807 total time=   7.2s\n",
      "[CV 4/5] END ..C=0.01, gamma=0.2, kernel=linear;, score=0.809 total time=   7.1s\n",
      "[CV 5/5] END ..C=0.01, gamma=0.2, kernel=linear;, score=0.806 total time=   7.1s\n",
      "[CV 1/5] END .....C=0.01, gamma=0.2, kernel=rbf;, score=0.778 total time=  19.1s\n",
      "[CV 2/5] END .....C=0.01, gamma=0.2, kernel=rbf;, score=0.778 total time=  18.8s\n",
      "[CV 3/5] END .....C=0.01, gamma=0.2, kernel=rbf;, score=0.778 total time=  18.3s\n",
      "[CV 4/5] END .....C=0.01, gamma=0.2, kernel=rbf;, score=0.778 total time=  18.5s\n",
      "[CV 5/5] END .....C=0.01, gamma=0.2, kernel=rbf;, score=0.778 total time=  18.6s\n"
     ]
    }
   ],
   "source": [
    "grid = GridSearchCV(SVC(), param_grid, refit=True, verbose=3)\n",
    "grid.fit(X_train_scaled, y_train)\n",
    "\n",
    "best_params = grid.best_params_\n",
    "best_score = grid.best_score_"
   ]
  },
  {
   "cell_type": "markdown",
   "id": "4598e079",
   "metadata": {},
   "source": [
    "Вывод лучших гиперпараметров и оценка производительности модели на тестовом наборе"
   ]
  },
  {
   "cell_type": "code",
   "execution_count": 20,
   "id": "5217a798",
   "metadata": {},
   "outputs": [
    {
     "name": "stdout",
     "output_type": "stream",
     "text": [
      "Лучшие гиперпараметры: {'C': 0.01, 'gamma': 0.01, 'kernel': 'linear'}\n",
      "Точность модели: 0.8105\n"
     ]
    }
   ],
   "source": [
    "print(\"Лучшие гиперпараметры:\", grid.best_params_)\n",
    "best_svc = grid.best_estimator_\n",
    "y_pred = best_svc.predict(X_test_scaled)\n",
    "accuracy = accuracy_score(y_test, y_pred)\n",
    "print(f\"Точность модели: {accuracy}\")"
   ]
  },
  {
   "cell_type": "code",
   "execution_count": null,
   "id": "53a1b792",
   "metadata": {},
   "outputs": [],
   "source": []
  }
 ],
 "metadata": {
  "kernelspec": {
   "display_name": "Python 3 (ipykernel)",
   "language": "python",
   "name": "python3"
  },
  "language_info": {
   "codemirror_mode": {
    "name": "ipython",
    "version": 3
   },
   "file_extension": ".py",
   "mimetype": "text/x-python",
   "name": "python",
   "nbconvert_exporter": "python",
   "pygments_lexer": "ipython3",
   "version": "3.11.5"
  }
 },
 "nbformat": 4,
 "nbformat_minor": 5
}
