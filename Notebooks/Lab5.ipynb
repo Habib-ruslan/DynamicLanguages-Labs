{
 "cells": [
  {
   "cell_type": "markdown",
   "id": "5302f485",
   "metadata": {},
   "source": [
    "## Лабораторная работа №5\n",
    "\n",
    "#### Задание 1\n",
    "Провести классификацию найденного датасета, методами решающего дерева и случайного леса . В формате Markdown написать пояснения. Объяснить почему были выбраны именно такие гиперпараметры, была ли перекрестная проверка, и т.д.\n",
    "\n",
    "#### Ход работы:"
   ]
  },
  {
   "cell_type": "markdown",
   "id": "9019cc0a",
   "metadata": {},
   "source": [
    "Импортируем библиотеки и загружаем датасет"
   ]
  },
  {
   "cell_type": "code",
   "execution_count": 27,
   "id": "ea2cc529",
   "metadata": {},
   "outputs": [],
   "source": [
    "import pandas as pd\n",
    "from sklearn.model_selection import train_test_split, GridSearchCV\n",
    "from sklearn.tree import DecisionTreeClassifier\n",
    "from sklearn.ensemble import RandomForestClassifier\n",
    "from sklearn.preprocessing import StandardScaler\n",
    "from tqdm import tqdm\n",
    "\n",
    "# Загрузка датасета\n",
    "file_path = \"../Dataset.xls\"\n",
    "df = pd.read_excel(file_path)"
   ]
  },
  {
   "cell_type": "markdown",
   "id": "f5ed7e75",
   "metadata": {},
   "source": [
    "Разделение данных и нормализация"
   ]
  },
  {
   "cell_type": "code",
   "execution_count": 28,
   "id": "67f8a8e4",
   "metadata": {},
   "outputs": [],
   "source": [
    "# Разделение на признаки (X) и целевую переменную (y)\n",
    "X = df.drop('default payment next month', axis=1)\n",
    "y = df['default payment next month']\n",
    "\n",
    "# Разделение данных на тренировочный и тестовый наборы\n",
    "# random_state=42 - гарантирует, что данные каждый раз будут одинакого разбиваться\n",
    "X_train, X_test, y_train, y_test = train_test_split(X, y, test_size=0.2, random_state=42)\n",
    "\n",
    "# Масштабирование признаков (нормализация)\n",
    "scaler = StandardScaler()\n",
    "X_train_scaled = scaler.fit_transform(X_train)\n",
    "X_test_scaled = scaler.transform(X_test)"
   ]
  },
  {
   "cell_type": "markdown",
   "id": "323fa2d8",
   "metadata": {},
   "source": [
    "#### Метод решающего дерева:"
   ]
  },
  {
   "cell_type": "markdown",
   "id": "8394d481",
   "metadata": {},
   "source": [
    "Гиперпараметры:\n",
    "   - max_depth: Максимальная глубина дерева. Ограничивает количество уровней в дереве. Значение None позволяет узлам расширяться до тех пор, пока все листовые узлы не будут содержать минимальное количество выборок.\n",
    "   - min_samples_split: Минимальное количество выборок, необходимых для разделения внутреннего узла. Если количество выборок в узле меньше этого значения, узел не будет разделяться.\n",
    "   - min_samples_leaf: Минимальное количество выборок, необходимых для существования листового узла. Это определяет, сколько выборок должно быть на каждом листе."
   ]
  },
  {
   "cell_type": "code",
   "execution_count": null,
   "id": "b3b2b97a",
   "metadata": {},
   "outputs": [],
   "source": [
    "param_grid_tree = {\n",
    "    'max_depth': [None, 5, 10, 15],\n",
    "    'min_samples_split': [2, 5, 10],\n",
    "    'min_samples_leaf': [1, 2, 4]\n",
    "}"
   ]
  },
  {
   "cell_type": "code",
   "execution_count": 29,
   "id": "742ae7c4",
   "metadata": {},
   "outputs": [
    {
     "data": {
      "text/plain": [
       "\"\\ntree = DecisionTreeClassifier()\\nbest_score = 0\\nbest_params_tree = {}\\n\\nwith tqdm(total=len(param_grid_tree['max_depth']) * len(param_grid_tree['min_samples_split'])\\n          * len(param_grid_tree['min_samples_leaf'])) as pbar:\\n    for max_depth in param_grid_tree['max_depth']:\\n        for min_samples_split in param_grid_tree['min_samples_split']:\\n            for min_samples_leaf in param_grid_tree['min_samples_leaf']:\\n                # Создание нового экземпляра GridSearchCV для каждой комбинации параметров\\n                grid_search_tree = GridSearchCV(tree, param_grid={'max_depth': [max_depth],\\n                                                                 'min_samples_split': [min_samples_split],\\n                                                                 'min_samples_leaf': [min_samples_leaf]}, cv=5)\\n                grid_search_tree.fit(X_train_scaled, y_train)\\n                if grid_search_tree.best_score_ > best_score:\\n                    best_score = grid_search_tree.best_score_\\n                    best_params_tree = grid_search_tree.best_params_\\n                pbar.update(1)\\n\""
      ]
     },
     "execution_count": 29,
     "metadata": {},
     "output_type": "execute_result"
    }
   ],
   "source": [
    "# Создание модели решающего дерева\n",
    "decision_tree = DecisionTreeClassifier()\n",
    "\n",
    "# Поиск лучших параметров для решающего дерева\n",
    "grid_search_tree = GridSearchCV(decision_tree, param_grid_tree, cv=5)\n",
    "grid_search_tree.fit(X_train_scaled, y_train)\n",
    "\n",
    "# Лучшие параметры для решающего дерева\n",
    "best_params_tree = grid_search_tree.best_params_\n",
    "best_score_tree = grid_search_tree.best_score_\n",
    "\n",
    "\"\"\" Время работы ~3 минут\n",
    "\n",
    "Ниже код для индикации процесса\n",
    "\n",
    "tree = DecisionTreeClassifier()\n",
    "best_score = 0\n",
    "best_params_tree = {}\n",
    "\n",
    "with tqdm(total=len(param_grid_tree['max_depth']) * len(param_grid_tree['min_samples_split'])\n",
    "          * len(param_grid_tree['min_samples_leaf'])) as pbar:\n",
    "    for max_depth in param_grid_tree['max_depth']:\n",
    "        for min_samples_split in param_grid_tree['min_samples_split']:\n",
    "            for min_samples_leaf in param_grid_tree['min_samples_leaf']:\n",
    "                # Создание нового экземпляра GridSearchCV для каждой комбинации параметров\n",
    "                grid_search_tree = GridSearchCV(tree, param_grid={'max_depth': [max_depth],\n",
    "                                                                 'min_samples_split': [min_samples_split],\n",
    "                                                                 'min_samples_leaf': [min_samples_leaf]}, cv=5)\n",
    "                grid_search_tree.fit(X_train_scaled, y_train)\n",
    "                if grid_search_tree.best_score_ > best_score:\n",
    "                    best_score = grid_search_tree.best_score_\n",
    "                    best_params_tree = grid_search_tree.best_params_\n",
    "                pbar.update(1)\n",
    "\"\"\""
   ]
  },
  {
   "cell_type": "markdown",
   "id": "25b00e0b",
   "metadata": {},
   "source": [
    "Обучение решающего дерева:"
   ]
  },
  {
   "cell_type": "code",
   "execution_count": 31,
   "id": "166f2862",
   "metadata": {},
   "outputs": [
    {
     "data": {
      "text/html": [
       "<style>#sk-container-id-5 {color: black;}#sk-container-id-5 pre{padding: 0;}#sk-container-id-5 div.sk-toggleable {background-color: white;}#sk-container-id-5 label.sk-toggleable__label {cursor: pointer;display: block;width: 100%;margin-bottom: 0;padding: 0.3em;box-sizing: border-box;text-align: center;}#sk-container-id-5 label.sk-toggleable__label-arrow:before {content: \"▸\";float: left;margin-right: 0.25em;color: #696969;}#sk-container-id-5 label.sk-toggleable__label-arrow:hover:before {color: black;}#sk-container-id-5 div.sk-estimator:hover label.sk-toggleable__label-arrow:before {color: black;}#sk-container-id-5 div.sk-toggleable__content {max-height: 0;max-width: 0;overflow: hidden;text-align: left;background-color: #f0f8ff;}#sk-container-id-5 div.sk-toggleable__content pre {margin: 0.2em;color: black;border-radius: 0.25em;background-color: #f0f8ff;}#sk-container-id-5 input.sk-toggleable__control:checked~div.sk-toggleable__content {max-height: 200px;max-width: 100%;overflow: auto;}#sk-container-id-5 input.sk-toggleable__control:checked~label.sk-toggleable__label-arrow:before {content: \"▾\";}#sk-container-id-5 div.sk-estimator input.sk-toggleable__control:checked~label.sk-toggleable__label {background-color: #d4ebff;}#sk-container-id-5 div.sk-label input.sk-toggleable__control:checked~label.sk-toggleable__label {background-color: #d4ebff;}#sk-container-id-5 input.sk-hidden--visually {border: 0;clip: rect(1px 1px 1px 1px);clip: rect(1px, 1px, 1px, 1px);height: 1px;margin: -1px;overflow: hidden;padding: 0;position: absolute;width: 1px;}#sk-container-id-5 div.sk-estimator {font-family: monospace;background-color: #f0f8ff;border: 1px dotted black;border-radius: 0.25em;box-sizing: border-box;margin-bottom: 0.5em;}#sk-container-id-5 div.sk-estimator:hover {background-color: #d4ebff;}#sk-container-id-5 div.sk-parallel-item::after {content: \"\";width: 100%;border-bottom: 1px solid gray;flex-grow: 1;}#sk-container-id-5 div.sk-label:hover label.sk-toggleable__label {background-color: #d4ebff;}#sk-container-id-5 div.sk-serial::before {content: \"\";position: absolute;border-left: 1px solid gray;box-sizing: border-box;top: 0;bottom: 0;left: 50%;z-index: 0;}#sk-container-id-5 div.sk-serial {display: flex;flex-direction: column;align-items: center;background-color: white;padding-right: 0.2em;padding-left: 0.2em;position: relative;}#sk-container-id-5 div.sk-item {position: relative;z-index: 1;}#sk-container-id-5 div.sk-parallel {display: flex;align-items: stretch;justify-content: center;background-color: white;position: relative;}#sk-container-id-5 div.sk-item::before, #sk-container-id-5 div.sk-parallel-item::before {content: \"\";position: absolute;border-left: 1px solid gray;box-sizing: border-box;top: 0;bottom: 0;left: 50%;z-index: -1;}#sk-container-id-5 div.sk-parallel-item {display: flex;flex-direction: column;z-index: 1;position: relative;background-color: white;}#sk-container-id-5 div.sk-parallel-item:first-child::after {align-self: flex-end;width: 50%;}#sk-container-id-5 div.sk-parallel-item:last-child::after {align-self: flex-start;width: 50%;}#sk-container-id-5 div.sk-parallel-item:only-child::after {width: 0;}#sk-container-id-5 div.sk-dashed-wrapped {border: 1px dashed gray;margin: 0 0.4em 0.5em 0.4em;box-sizing: border-box;padding-bottom: 0.4em;background-color: white;}#sk-container-id-5 div.sk-label label {font-family: monospace;font-weight: bold;display: inline-block;line-height: 1.2em;}#sk-container-id-5 div.sk-label-container {text-align: center;}#sk-container-id-5 div.sk-container {/* jupyter's `normalize.less` sets `[hidden] { display: none; }` but bootstrap.min.css set `[hidden] { display: none !important; }` so we also need the `!important` here to be able to override the default hidden behavior on the sphinx rendered scikit-learn.org. See: https://github.com/scikit-learn/scikit-learn/issues/21755 */display: inline-block !important;position: relative;}#sk-container-id-5 div.sk-text-repr-fallback {display: none;}</style><div id=\"sk-container-id-5\" class=\"sk-top-container\"><div class=\"sk-text-repr-fallback\"><pre>DecisionTreeClassifier(max_depth=5, min_samples_leaf=4)</pre><b>In a Jupyter environment, please rerun this cell to show the HTML representation or trust the notebook. <br />On GitHub, the HTML representation is unable to render, please try loading this page with nbviewer.org.</b></div><div class=\"sk-container\" hidden><div class=\"sk-item\"><div class=\"sk-estimator sk-toggleable\"><input class=\"sk-toggleable__control sk-hidden--visually\" id=\"sk-estimator-id-5\" type=\"checkbox\" checked><label for=\"sk-estimator-id-5\" class=\"sk-toggleable__label sk-toggleable__label-arrow\">DecisionTreeClassifier</label><div class=\"sk-toggleable__content\"><pre>DecisionTreeClassifier(max_depth=5, min_samples_leaf=4)</pre></div></div></div></div></div>"
      ],
      "text/plain": [
       "DecisionTreeClassifier(max_depth=5, min_samples_leaf=4)"
      ]
     },
     "execution_count": 31,
     "metadata": {},
     "output_type": "execute_result"
    }
   ],
   "source": [
    "best_tree = DecisionTreeClassifier(**best_params_tree)\n",
    "best_tree.fit(X_train_scaled, y_train)"
   ]
  },
  {
   "cell_type": "markdown",
   "id": "b1cc8576",
   "metadata": {},
   "source": [
    "Результаты:"
   ]
  },
  {
   "cell_type": "code",
   "execution_count": 32,
   "id": "5841216b",
   "metadata": {},
   "outputs": [
    {
     "name": "stdout",
     "output_type": "stream",
     "text": [
      "Лучшие параметры для решающего дерева: {'max_depth': 5, 'min_samples_leaf': 4, 'min_samples_split': 2}\n",
      "Точность решающего дерева на тестовом наборе: 0.8171666666666667\n"
     ]
    }
   ],
   "source": [
    "accuracy_tree = best_tree.score(X_test_scaled, y_test)\n",
    "print(\"Лучшие параметры для решающего дерева:\", best_params_tree)\n",
    "print(\"Точность решающего дерева на тестовом наборе:\", accuracy_tree)"
   ]
  },
  {
   "cell_type": "markdown",
   "id": "2aa4da38",
   "metadata": {},
   "source": [
    "#### Метод случаного леса:"
   ]
  },
  {
   "cell_type": "markdown",
   "id": "a8548ae2",
   "metadata": {},
   "source": [
    "Гиперпараметры:\n",
    "   - n_estimators: Количество деревьев в лесу. Большее количество деревьев может улучшить производительность, но с большими затратами на вычислительные ресурсы.\n",
    "   - max_depth: Максимальная глубина каждого дерева в лесу. Это ограничивает глубину каждого дерева в лесу, что помогает управлять переобучением.\n",
    "   - min_samples_split: Минимальное количество выборок, необходимых для разделения внутреннего узла дерева. Определяет, сколько выборок должно быть в узле, чтобы он был разделен.\n",
    "   - min_samples_leaf: Минимальное количество выборок, необходимых для существования листового узла. Это определяет, сколько выборок должно быть на каждом листе дерева."
   ]
  },
  {
   "cell_type": "code",
   "execution_count": null,
   "id": "fa9776b0",
   "metadata": {},
   "outputs": [],
   "source": [
    "# Определение параметров для случайного леса\n",
    "# Указал маленькие значения для ускорения обучения\n",
    "param_grid_forest = {\n",
    "    'n_estimators': [2, 10, 20],\n",
    "    'max_depth': [None, 5, 10],\n",
    "    'min_samples_split': [2, 5],\n",
    "    'min_samples_leaf': [1, 2, 4]\n",
    "}"
   ]
  },
  {
   "cell_type": "code",
   "execution_count": 33,
   "id": "64dc4714",
   "metadata": {},
   "outputs": [
    {
     "data": {
      "text/plain": [
       "\"\\nforest = RandomForestClassifier()\\n\\nbest_score_forest = 0\\nbest_params_forest = {}\\n\\nwith tqdm(total=len(param_grid_forest['n_estimators']) * len(param_grid_forest['max_depth'])\\n          * len(param_grid_forest['min_samples_split']) * len(param_grid_forest['min_samples_leaf'])) as pbar:\\n    for n_estimators in param_grid_forest['n_estimators']:\\n        for max_depth in param_grid_forest['max_depth']:\\n            for min_samples_split in param_grid_forest['min_samples_split']:\\n                for min_samples_leaf in param_grid_forest['min_samples_leaf']:\\n                    grid_search_forest = GridSearchCV(forest, param_grid={'n_estimators': [n_estimators],\\n                                                                         'max_depth': [max_depth],\\n                                                                         'min_samples_split': [min_samples_split],\\n                                                                         'min_samples_leaf': [min_samples_leaf]}, cv=5)\\n                    grid_search_forest.fit(X_train_scaled, y_train)\\n                    if grid_search_forest.best_score_ > best_score_forest:\\n                        best_score_forest = grid_search_forest.best_score_\\n                        best_params_forest = grid_search_forest.best_params_\\n                    pbar.update(1)\\n\""
      ]
     },
     "execution_count": 33,
     "metadata": {},
     "output_type": "execute_result"
    }
   ],
   "source": [
    "# Создание модели случайного леса\n",
    "random_forest = RandomForestClassifier()\n",
    "\n",
    "# Поиск лучших параметров для случайного леса\n",
    "grid_search_forest = GridSearchCV(random_forest, param_grid_forest, cv=5)\n",
    "grid_search_forest.fit(X_train_scaled, y_train)\n",
    "\n",
    "# Лучшие параметры для случайного леса\n",
    "best_params_forest = grid_search_forest.best_params_\n",
    "best_score_forest = grid_search_forest.best_score_\n",
    "\n",
    "\"\"\" Время работы ~7 минут\n",
    "\n",
    "Ниже код для индикации процесса\n",
    "\n",
    "forest = RandomForestClassifier()\n",
    "\n",
    "best_score_forest = 0\n",
    "best_params_forest = {}\n",
    "\n",
    "with tqdm(total=len(param_grid_forest['n_estimators']) * len(param_grid_forest['max_depth'])\n",
    "          * len(param_grid_forest['min_samples_split']) * len(param_grid_forest['min_samples_leaf'])) as pbar:\n",
    "    for n_estimators in param_grid_forest['n_estimators']:\n",
    "        for max_depth in param_grid_forest['max_depth']:\n",
    "            for min_samples_split in param_grid_forest['min_samples_split']:\n",
    "                for min_samples_leaf in param_grid_forest['min_samples_leaf']:\n",
    "                    grid_search_forest = GridSearchCV(forest, param_grid={'n_estimators': [n_estimators],\n",
    "                                                                         'max_depth': [max_depth],\n",
    "                                                                         'min_samples_split': [min_samples_split],\n",
    "                                                                         'min_samples_leaf': [min_samples_leaf]}, cv=5)\n",
    "                    grid_search_forest.fit(X_train_scaled, y_train)\n",
    "                    if grid_search_forest.best_score_ > best_score_forest:\n",
    "                        best_score_forest = grid_search_forest.best_score_\n",
    "                        best_params_forest = grid_search_forest.best_params_\n",
    "                    pbar.update(1)\n",
    "\"\"\""
   ]
  },
  {
   "cell_type": "markdown",
   "id": "e55bbe65",
   "metadata": {},
   "source": [
    "Обучение случайного леса:"
   ]
  },
  {
   "cell_type": "code",
   "execution_count": 34,
   "id": "c5a9cb3d",
   "metadata": {},
   "outputs": [
    {
     "data": {
      "text/html": [
       "<style>#sk-container-id-6 {color: black;}#sk-container-id-6 pre{padding: 0;}#sk-container-id-6 div.sk-toggleable {background-color: white;}#sk-container-id-6 label.sk-toggleable__label {cursor: pointer;display: block;width: 100%;margin-bottom: 0;padding: 0.3em;box-sizing: border-box;text-align: center;}#sk-container-id-6 label.sk-toggleable__label-arrow:before {content: \"▸\";float: left;margin-right: 0.25em;color: #696969;}#sk-container-id-6 label.sk-toggleable__label-arrow:hover:before {color: black;}#sk-container-id-6 div.sk-estimator:hover label.sk-toggleable__label-arrow:before {color: black;}#sk-container-id-6 div.sk-toggleable__content {max-height: 0;max-width: 0;overflow: hidden;text-align: left;background-color: #f0f8ff;}#sk-container-id-6 div.sk-toggleable__content pre {margin: 0.2em;color: black;border-radius: 0.25em;background-color: #f0f8ff;}#sk-container-id-6 input.sk-toggleable__control:checked~div.sk-toggleable__content {max-height: 200px;max-width: 100%;overflow: auto;}#sk-container-id-6 input.sk-toggleable__control:checked~label.sk-toggleable__label-arrow:before {content: \"▾\";}#sk-container-id-6 div.sk-estimator input.sk-toggleable__control:checked~label.sk-toggleable__label {background-color: #d4ebff;}#sk-container-id-6 div.sk-label input.sk-toggleable__control:checked~label.sk-toggleable__label {background-color: #d4ebff;}#sk-container-id-6 input.sk-hidden--visually {border: 0;clip: rect(1px 1px 1px 1px);clip: rect(1px, 1px, 1px, 1px);height: 1px;margin: -1px;overflow: hidden;padding: 0;position: absolute;width: 1px;}#sk-container-id-6 div.sk-estimator {font-family: monospace;background-color: #f0f8ff;border: 1px dotted black;border-radius: 0.25em;box-sizing: border-box;margin-bottom: 0.5em;}#sk-container-id-6 div.sk-estimator:hover {background-color: #d4ebff;}#sk-container-id-6 div.sk-parallel-item::after {content: \"\";width: 100%;border-bottom: 1px solid gray;flex-grow: 1;}#sk-container-id-6 div.sk-label:hover label.sk-toggleable__label {background-color: #d4ebff;}#sk-container-id-6 div.sk-serial::before {content: \"\";position: absolute;border-left: 1px solid gray;box-sizing: border-box;top: 0;bottom: 0;left: 50%;z-index: 0;}#sk-container-id-6 div.sk-serial {display: flex;flex-direction: column;align-items: center;background-color: white;padding-right: 0.2em;padding-left: 0.2em;position: relative;}#sk-container-id-6 div.sk-item {position: relative;z-index: 1;}#sk-container-id-6 div.sk-parallel {display: flex;align-items: stretch;justify-content: center;background-color: white;position: relative;}#sk-container-id-6 div.sk-item::before, #sk-container-id-6 div.sk-parallel-item::before {content: \"\";position: absolute;border-left: 1px solid gray;box-sizing: border-box;top: 0;bottom: 0;left: 50%;z-index: -1;}#sk-container-id-6 div.sk-parallel-item {display: flex;flex-direction: column;z-index: 1;position: relative;background-color: white;}#sk-container-id-6 div.sk-parallel-item:first-child::after {align-self: flex-end;width: 50%;}#sk-container-id-6 div.sk-parallel-item:last-child::after {align-self: flex-start;width: 50%;}#sk-container-id-6 div.sk-parallel-item:only-child::after {width: 0;}#sk-container-id-6 div.sk-dashed-wrapped {border: 1px dashed gray;margin: 0 0.4em 0.5em 0.4em;box-sizing: border-box;padding-bottom: 0.4em;background-color: white;}#sk-container-id-6 div.sk-label label {font-family: monospace;font-weight: bold;display: inline-block;line-height: 1.2em;}#sk-container-id-6 div.sk-label-container {text-align: center;}#sk-container-id-6 div.sk-container {/* jupyter's `normalize.less` sets `[hidden] { display: none; }` but bootstrap.min.css set `[hidden] { display: none !important; }` so we also need the `!important` here to be able to override the default hidden behavior on the sphinx rendered scikit-learn.org. See: https://github.com/scikit-learn/scikit-learn/issues/21755 */display: inline-block !important;position: relative;}#sk-container-id-6 div.sk-text-repr-fallback {display: none;}</style><div id=\"sk-container-id-6\" class=\"sk-top-container\"><div class=\"sk-text-repr-fallback\"><pre>RandomForestClassifier(max_depth=10, min_samples_leaf=2, n_estimators=20)</pre><b>In a Jupyter environment, please rerun this cell to show the HTML representation or trust the notebook. <br />On GitHub, the HTML representation is unable to render, please try loading this page with nbviewer.org.</b></div><div class=\"sk-container\" hidden><div class=\"sk-item\"><div class=\"sk-estimator sk-toggleable\"><input class=\"sk-toggleable__control sk-hidden--visually\" id=\"sk-estimator-id-6\" type=\"checkbox\" checked><label for=\"sk-estimator-id-6\" class=\"sk-toggleable__label sk-toggleable__label-arrow\">RandomForestClassifier</label><div class=\"sk-toggleable__content\"><pre>RandomForestClassifier(max_depth=10, min_samples_leaf=2, n_estimators=20)</pre></div></div></div></div></div>"
      ],
      "text/plain": [
       "RandomForestClassifier(max_depth=10, min_samples_leaf=2, n_estimators=20)"
      ]
     },
     "execution_count": 34,
     "metadata": {},
     "output_type": "execute_result"
    }
   ],
   "source": [
    "best_forest = RandomForestClassifier(**best_params_forest)\n",
    "best_forest.fit(X_train_scaled, y_train)"
   ]
  },
  {
   "cell_type": "markdown",
   "id": "1b236910",
   "metadata": {},
   "source": [
    "Результаты:"
   ]
  },
  {
   "cell_type": "code",
   "execution_count": 35,
   "id": "1f37946b",
   "metadata": {},
   "outputs": [
    {
     "name": "stdout",
     "output_type": "stream",
     "text": [
      "Лучшие параметры для случайного леса: {'max_depth': 10, 'min_samples_leaf': 2, 'min_samples_split': 2, 'n_estimators': 20}\n",
      "Точность случайного леса на тестовом наборе: 0.8156666666666667\n"
     ]
    }
   ],
   "source": [
    "accuracy_forest = best_forest.score(X_test_scaled, y_test)\n",
    "print(\"Лучшие параметры для случайного леса:\", best_params_forest)\n",
    "print(\"Точность случайного леса на тестовом наборе:\", accuracy_forest)"
   ]
  },
  {
   "cell_type": "code",
   "execution_count": null,
   "id": "93c89236",
   "metadata": {},
   "outputs": [],
   "source": []
  }
 ],
 "metadata": {
  "kernelspec": {
   "display_name": "Python 3 (ipykernel)",
   "language": "python",
   "name": "python3"
  },
  "language_info": {
   "codemirror_mode": {
    "name": "ipython",
    "version": 3
   },
   "file_extension": ".py",
   "mimetype": "text/x-python",
   "name": "python",
   "nbconvert_exporter": "python",
   "pygments_lexer": "ipython3",
   "version": "3.11.5"
  }
 },
 "nbformat": 4,
 "nbformat_minor": 5
}
